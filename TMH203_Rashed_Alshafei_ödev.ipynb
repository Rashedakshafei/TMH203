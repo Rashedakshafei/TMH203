{
 "cells": [
  {
   "cell_type": "markdown",
   "id": "a4d4a7e4",
   "metadata": {},
   "source": [
    "## Accelaration law\n",
    "#This law is used in situations where we want to know how the applied force will produce it. The accelerometer depends on the situation or type of movement. The change in velocity may be time, and the SI unit is meters per second."
   ]
  },
  {
   "cell_type": "code",
   "execution_count": 1,
   "id": "5da39ce2",
   "metadata": {},
   "outputs": [
    {
     "name": "stdout",
     "output_type": "stream",
     "text": [
      "enter the value of the initial :10\n",
      "enter the value of the final velocity:5\n",
      "enter the value of the time:5\n",
      "the value of the accelaration is : 3.0\n"
     ]
    }
   ],
   "source": [
    "Vinitial=int(input(\"enter the value of the initial :\"))\n",
    "Vfinal=int(input(\"enter the value of the final velocity:\"))\n",
    "time=int(input(\"enter the value of the time:\"))\n",
    "A=Vfinal-Vinitial/time\n",
    "print(\"the value of the accelaration is :\",A)"
   ]
  },
  {
   "cell_type": "markdown",
   "id": "15c2ab3e",
   "metadata": {},
   "source": [
    "### simple application to inform about time \n",
    "#we use this application to learn about time \n"
   ]
  },
  {
   "cell_type": "code",
   "execution_count": 11,
   "id": "ce7dd186",
   "metadata": {},
   "outputs": [
    {
     "name": "stdout",
     "output_type": "stream",
     "text": [
      "what is the time?:4\n",
      "good morning\n"
     ]
    }
   ],
   "source": [
    "X = int(input(\"what is the time?:\"))\n",
    "if X <= 10:\n",
    "    print(\"good morning\")\n",
    "elif X<12:\n",
    "    print(\"soon time for lunch\")\n",
    "elif X<18:\n",
    "    print(\"good day\")\n",
    "elif X<22:\n",
    "    print(\"good evening\")\n",
    "else:\n",
    "    print(\"good night\")\n",
    "    "
   ]
  },
  {
   "cell_type": "markdown",
   "id": "d85ff3cc",
   "metadata": {},
   "source": [
    "## simple application to calculate profit or loss"
   ]
  },
  {
   "cell_type": "code",
   "execution_count": 8,
   "id": "f0f75ac1",
   "metadata": {},
   "outputs": [
    {
     "name": "stdout",
     "output_type": "stream",
     "text": [
      " Please Enter the Actual Product Price: 30\n",
      " Please Enter the Sales Amount: 50\n",
      "Total Profit = 20.0\n"
     ]
    }
   ],
   "source": [
    "# Python Program to Calculate Profit or Loss\n",
    " \n",
    "actual_cost = float(input(\" Please Enter the Actual Product Price: \"))\n",
    "sale_amount = float(input(\" Please Enter the Sales Amount: \"))\n",
    " \n",
    "if(actual_cost - sale_amount > 0):\n",
    "    amount = actual_cost - sale_amount\n",
    "    print(\"Total Loss Amount = {0}\".format(amount))\n",
    "elif(sale_amount - actual_cost > 0):\n",
    "    amount = sale_amount - actual_cost\n",
    "    print(\"Total Profit = {0}\".format(amount))\n",
    "else:\n",
    "    print(\"No Profit No Loss!!!!\")"
   ]
  }
 ],
 "metadata": {
  "kernelspec": {
   "display_name": "Python 3 (ipykernel)",
   "language": "python",
   "name": "python3"
  },
  "language_info": {
   "codemirror_mode": {
    "name": "ipython",
    "version": 3
   },
   "file_extension": ".py",
   "mimetype": "text/x-python",
   "name": "python",
   "nbconvert_exporter": "python",
   "pygments_lexer": "ipython3",
   "version": "3.9.12"
  }
 },
 "nbformat": 4,
 "nbformat_minor": 5
}
